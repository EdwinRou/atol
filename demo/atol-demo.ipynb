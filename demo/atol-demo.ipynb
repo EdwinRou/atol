{
 "cells": [
  {
   "cell_type": "markdown",
   "metadata": {},
   "source": [
    "# tutorial for *ATOL: Automatic Topologically-Oriented Learning*"
   ]
  },
  {
   "cell_type": "markdown",
   "metadata": {},
   "source": [
    "__Author:__ Martin Royer"
   ]
  },
  {
   "cell_type": "markdown",
   "metadata": {},
   "source": [
    "## Outline:\n",
    "In this notebook:\n",
    "- select a graph dataset that exists in the /perslay/ submodule\n",
    "- generate the associated persistence diagrams\n",
    "- show an example of centers and ATOL-features\n",
    "- run a ten-fold classification experiment solely based on the resulting ATOL graph features"
   ]
  },
  {
   "cell_type": "markdown",
   "metadata": {},
   "source": [
    "### Select problem and budget"
   ]
  },
  {
   "cell_type": "code",
   "execution_count": 1,
   "metadata": {},
   "outputs": [],
   "source": [
    "import os\n",
    "import numpy as np\n",
    "from itertools import product\n",
    "\n",
    "graph_problem = \"BZR\"\n",
    "graph_folder = \"../../perslay/tutorial/data/\" + graph_problem + \"/\" # this should point to a vanilla perslay\n",
    "\n",
    "atol_params = {\n",
    "    \"filtrations\": ['0.1-hks', '10.0-hks'],\n",
    "    \"n_centers\": 10,\n",
    "}"
   ]
  },
  {
   "cell_type": "markdown",
   "metadata": {},
   "source": [
    "### Compute HKS-extended persistence diagrams for this problem"
   ]
  },
  {
   "cell_type": "code",
   "execution_count": 2,
   "metadata": {},
   "outputs": [
    {
     "name": "stdout",
     "output_type": "stream",
     "text": [
      "- [BZR] TDA computation\n",
      "Pad size for eigenvalues in this dataset is: 57\n"
     ]
    }
   ],
   "source": [
    "from atol import compute_tda_for_graphs\n",
    "print(\"- [%s] TDA computation\" % graph_problem)\n",
    "compute_tda_for_graphs(atol_params, graph_folder)"
   ]
  },
  {
   "cell_type": "markdown",
   "metadata": {},
   "source": [
    "### Compute centers and features, plot"
   ]
  },
  {
   "cell_type": "code",
   "execution_count": 7,
   "metadata": {},
   "outputs": [],
   "source": [
    "from atol.atol import _graph_dtypes, _csv_toarray"
   ]
  },
  {
   "cell_type": "code",
   "execution_count": null,
   "metadata": {
    "scrolled": true
   },
   "outputs": [],
   "source": [
    "from atol import centers_and_inertias, atol_feats_graphs\n",
    "import pandas as pd\n",
    "import seaborn as sns\n",
    "sns.set\n",
    "\n",
    "num_elements = len(os.listdir(graph_folder + \"mat/\"))\n",
    "all_diags = {}  # load all filtrations into memory once for all\n",
    "for dtype, gid, filt in product(_graph_dtypes, np.arange(num_elements), atol_params[\"filtrations\"]):\n",
    "    all_diags[(dtype, filt, gid)] = _csv_toarray(graph_folder + \"diagrams/%s/graph_%06i_filt_%s.csv\" % (dtype, gid, filt))\n",
    "\n",
    "centers = {(dtype, filt): centers_and_inertias(diags=np.concatenate([all_diags[(dtype, filt, gid)] for gid in np.arange(num_elements)]),\n",
    "                                               n_centers=atol_params[\"n_centers\"]) for dtype, filt in product(_graph_dtypes, atol_params[\"filtrations\"])}\n",
    "centers_df = []\n",
    "for dtype, filt in product(_graph_dtypes, atol_params[\"filtrations\"]):\n",
    "    clustercenters = centers[dtype, filt][0].cluster_centers_\n",
    "    [centers_df.append({\"center\": _, \"x\": clustercenters[_, 0], \"y\": clustercenters[_, 1], \"dtype\": dtype, \"filt\": filt}) for _ in range(clustercenters.shape[0])]\n",
    "centers_df = pd.DataFrame(centers_df)\n",
    "g = sns.relplot(x=\"x\", y=\"y\", hue=\"center\", row=\"dtype\", col=\"filt\", data=centers_df)"
   ]
  },
  {
   "cell_type": "code",
   "execution_count": null,
   "metadata": {},
   "outputs": [],
   "source": [
    "feats = pd.DataFrame(atol_feats_graphs(graph_folder, all_diags, atol_params, centers),\n",
    "                     columns=[\"index\", \"type\", \"center\", \"value\", \"label\"])\n",
    "\n",
    "import seaborn as sns\n",
    "sns.set()\n",
    "\n",
    "from sklearn.preprocessing import MinMaxScaler\n",
    "def renormalize(df):\n",
    "    df[\"value\"] = MinMaxScaler().fit_transform(df[\"value\"].values.reshape(-1, 1))\n",
    "    return df\n",
    "\n",
    "sns.relplot(x=\"index\", y=\"value\", kind=\"line\", hue=\"center\", col=\"type\", col_wrap=2, legend=\"full\",\n",
    "            data=feats.groupby([\"type\"]).apply(renormalize))"
   ]
  },
  {
   "cell_type": "markdown",
   "metadata": {},
   "source": [
    "### Ten-fold classification evaluation"
   ]
  },
  {
   "cell_type": "code",
   "execution_count": 16,
   "metadata": {
    "scrolled": true
   },
   "outputs": [
    {
     "name": "stdout",
     "output_type": "stream",
     "text": [
      "- [BZR] RF classification\n",
      "-- Fold 1\n"
     ]
    },
    {
     "name": "stderr",
     "output_type": "stream",
     "text": [
      "C:\\installs\\Anaconda3\\envs\\mifune\\lib\\site-packages\\sklearn\\ensemble\\forest.py:245: FutureWarning: The default value of n_estimators will change from 10 in version 0.20 to 100 in 0.22.\n",
      "  \"10 in version 0.20 to 100 in 0.22.\", FutureWarning)\n"
     ]
    },
    {
     "name": "stdout",
     "output_type": "stream",
     "text": [
      " Descriptors have size: (array([80]), array([365], dtype=int64))\n",
      "  (train) balanced_accuracy_score: 0.96\n",
      "  (Test) balanced_accuracy_score: 0.77\n",
      "-- Fold 2\n"
     ]
    },
    {
     "name": "stderr",
     "output_type": "stream",
     "text": [
      "C:\\installs\\Anaconda3\\envs\\mifune\\lib\\site-packages\\sklearn\\ensemble\\forest.py:245: FutureWarning: The default value of n_estimators will change from 10 in version 0.20 to 100 in 0.22.\n",
      "  \"10 in version 0.20 to 100 in 0.22.\", FutureWarning)\n"
     ]
    },
    {
     "name": "stdout",
     "output_type": "stream",
     "text": [
      " Descriptors have size: (array([80]), array([365], dtype=int64))\n",
      "  (train) balanced_accuracy_score: 0.95\n",
      "  (Test) balanced_accuracy_score: 0.71\n",
      "-- Fold 3\n"
     ]
    },
    {
     "name": "stderr",
     "output_type": "stream",
     "text": [
      "C:\\installs\\Anaconda3\\envs\\mifune\\lib\\site-packages\\sklearn\\ensemble\\forest.py:245: FutureWarning: The default value of n_estimators will change from 10 in version 0.20 to 100 in 0.22.\n",
      "  \"10 in version 0.20 to 100 in 0.22.\", FutureWarning)\n"
     ]
    },
    {
     "name": "stdout",
     "output_type": "stream",
     "text": [
      " Descriptors have size: (array([80]), array([365], dtype=int64))\n",
      "  (train) balanced_accuracy_score: 0.97\n",
      "  (Test) balanced_accuracy_score: 0.77\n",
      "-- Fold 4\n"
     ]
    },
    {
     "name": "stderr",
     "output_type": "stream",
     "text": [
      "C:\\installs\\Anaconda3\\envs\\mifune\\lib\\site-packages\\sklearn\\ensemble\\forest.py:245: FutureWarning: The default value of n_estimators will change from 10 in version 0.20 to 100 in 0.22.\n",
      "  \"10 in version 0.20 to 100 in 0.22.\", FutureWarning)\n"
     ]
    },
    {
     "name": "stdout",
     "output_type": "stream",
     "text": [
      " Descriptors have size: (array([80]), array([365], dtype=int64))\n",
      "  (train) balanced_accuracy_score: 0.97\n",
      "  (Test) balanced_accuracy_score: 0.83\n",
      "-- Fold 5\n"
     ]
    },
    {
     "name": "stderr",
     "output_type": "stream",
     "text": [
      "C:\\installs\\Anaconda3\\envs\\mifune\\lib\\site-packages\\sklearn\\ensemble\\forest.py:245: FutureWarning: The default value of n_estimators will change from 10 in version 0.20 to 100 in 0.22.\n",
      "  \"10 in version 0.20 to 100 in 0.22.\", FutureWarning)\n"
     ]
    },
    {
     "name": "stdout",
     "output_type": "stream",
     "text": [
      " Descriptors have size: (array([80]), array([365], dtype=int64))\n",
      "  (train) balanced_accuracy_score: 0.95\n",
      "  (Test) balanced_accuracy_score: 0.66\n",
      "-- Fold 6\n"
     ]
    },
    {
     "name": "stderr",
     "output_type": "stream",
     "text": [
      "C:\\installs\\Anaconda3\\envs\\mifune\\lib\\site-packages\\sklearn\\ensemble\\forest.py:245: FutureWarning: The default value of n_estimators will change from 10 in version 0.20 to 100 in 0.22.\n",
      "  \"10 in version 0.20 to 100 in 0.22.\", FutureWarning)\n"
     ]
    },
    {
     "name": "stdout",
     "output_type": "stream",
     "text": [
      " Descriptors have size: (array([80]), array([365], dtype=int64))\n",
      "  (train) balanced_accuracy_score: 0.93\n",
      "  (Test) balanced_accuracy_score: 0.68\n",
      "-- Fold 7\n"
     ]
    },
    {
     "name": "stderr",
     "output_type": "stream",
     "text": [
      "C:\\installs\\Anaconda3\\envs\\mifune\\lib\\site-packages\\sklearn\\ensemble\\forest.py:245: FutureWarning: The default value of n_estimators will change from 10 in version 0.20 to 100 in 0.22.\n",
      "  \"10 in version 0.20 to 100 in 0.22.\", FutureWarning)\n"
     ]
    },
    {
     "name": "stdout",
     "output_type": "stream",
     "text": [
      " Descriptors have size: (array([80]), array([365], dtype=int64))\n",
      "  (train) balanced_accuracy_score: 0.97\n",
      "  (Test) balanced_accuracy_score: 0.65\n",
      "-- Fold 8\n"
     ]
    },
    {
     "name": "stderr",
     "output_type": "stream",
     "text": [
      "C:\\installs\\Anaconda3\\envs\\mifune\\lib\\site-packages\\sklearn\\ensemble\\forest.py:245: FutureWarning: The default value of n_estimators will change from 10 in version 0.20 to 100 in 0.22.\n",
      "  \"10 in version 0.20 to 100 in 0.22.\", FutureWarning)\n"
     ]
    },
    {
     "name": "stdout",
     "output_type": "stream",
     "text": [
      " Descriptors have size: (array([80]), array([365], dtype=int64))\n",
      "  (train) balanced_accuracy_score: 0.96\n",
      "  (Test) balanced_accuracy_score: 0.54\n",
      "-- Fold 9\n"
     ]
    },
    {
     "name": "stderr",
     "output_type": "stream",
     "text": [
      "C:\\installs\\Anaconda3\\envs\\mifune\\lib\\site-packages\\sklearn\\ensemble\\forest.py:245: FutureWarning: The default value of n_estimators will change from 10 in version 0.20 to 100 in 0.22.\n",
      "  \"10 in version 0.20 to 100 in 0.22.\", FutureWarning)\n"
     ]
    },
    {
     "name": "stdout",
     "output_type": "stream",
     "text": [
      " Descriptors have size: (array([80]), array([365], dtype=int64))\n",
      "  (train) balanced_accuracy_score: 0.94\n",
      "  (Test) balanced_accuracy_score: 0.76\n",
      "-- Fold 10\n",
      " Descriptors have size: (array([80]), array([365], dtype=int64))\n",
      "  (train) balanced_accuracy_score: 0.96\n",
      "  (Test) balanced_accuracy_score: 1.00\n",
      "- Crossval ended with avg 0.7351, sd 0.1171\n",
      "- Featurisation took 2752.100 ms\n",
      "- [BZR] end\n",
      "\n"
     ]
    },
    {
     "name": "stderr",
     "output_type": "stream",
     "text": [
      "C:\\installs\\Anaconda3\\envs\\mifune\\lib\\site-packages\\sklearn\\ensemble\\forest.py:245: FutureWarning: The default value of n_estimators will change from 10 in version 0.20 to 100 in 0.22.\n",
      "  \"10 in version 0.20 to 100 in 0.22.\", FutureWarning)\n"
     ]
    }
   ],
   "source": [
    "from atol import graph_tenfold\n",
    "print(\"- [%s] RF classification\" % graph_problem)\n",
    "vfold_scores, feature_times = graph_tenfold(graph_folder, atol_params)\n",
    "print(\"- Crossval ended with avg %.4f, sd %.4f\" % tuple(f(vfold_scores) for f in [np.mean, np.std]))\n",
    "print(\"- Featurisation took %.3f ms\" % (np.mean(feature_times) * 1000.0))\n",
    "print(\"- [%s] end\\n\" % graph_problem)"
   ]
  }
 ],
 "metadata": {
  "kernelspec": {
   "display_name": "Python 3",
   "language": "python",
   "name": "python3"
  },
  "language_info": {
   "codemirror_mode": {
    "name": "ipython",
    "version": 3
   },
   "file_extension": ".py",
   "mimetype": "text/x-python",
   "name": "python",
   "nbconvert_exporter": "python",
   "pygments_lexer": "ipython3",
   "version": "3.6.7"
  },
  "toc": {
   "base_numbering": 1,
   "nav_menu": {},
   "number_sections": true,
   "sideBar": true,
   "skip_h1_title": false,
   "title_cell": "Table of Contents",
   "title_sidebar": "Contents",
   "toc_cell": false,
   "toc_position": {},
   "toc_section_display": true,
   "toc_window_display": false
  }
 },
 "nbformat": 4,
 "nbformat_minor": 2
}
